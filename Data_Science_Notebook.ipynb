{
 "cells": [
  {
   "cell_type": "code",
   "execution_count": null,
   "id": "9b090af9-2540-4a60-807a-6f4d7e98b912",
   "metadata": {},
   "outputs": [],
   "source": [
    "# Data Science Notebook"
   ]
  },
  {
   "cell_type": "code",
   "execution_count": null,
   "id": "5078d04b-8778-455c-a094-26d0b925ffa9",
   "metadata": {},
   "outputs": [],
   "source": [
    "## Introduction\n",
    "This notebook is a excellent form to practice all the tecniches learned in this course"
   ]
  },
  {
   "cell_type": "code",
   "execution_count": null,
   "id": "ff1f4ef2-aafb-4a90-b24e-c0bca9afc0df",
   "metadata": {},
   "outputs": [],
   "source": [
    "## Data Science Languages\n",
    "- scala\n",
    "- R\n",
    "- Julia\n",
    "- SQL\n",
    "- python"
   ]
  },
  {
   "cell_type": "code",
   "execution_count": null,
   "id": "01aebc40-1832-4cdc-844b-772951c07276",
   "metadata": {},
   "outputs": [],
   "source": [
    "## Data Science Libraries\n",
    "- Pandas\n",
    "- NumPy\n",
    "- Keras\n",
    "- Scikit-learn\n",
    "- TensorFlow\n",
    "- Matplotlib\n"
   ]
  },
  {
   "cell_type": "code",
   "execution_count": null,
   "id": "a343b57d-483b-4a83-83e1-249620e7a418",
   "metadata": {},
   "outputs": [],
   "source": [
    "## Data Science Tools\n",
    "\n",
    "| Tool          | Purpose                      |\n",
    "|--------------|------------------------------|\n",
    "| JupyterLab   | Interactive coding           |\n",
    "| RStudio      | R development environment    |\n",
    "| Apache Spark | Big data processing          |\n",
    "| TensorFlow   | Machine learning framework   |\n"
   ]
  },
  {
   "cell_type": "code",
   "execution_count": null,
   "id": "b1059cae-e8a2-49ab-bbf3-babbc394527c",
   "metadata": {},
   "outputs": [],
   "source": [
    "## Arithmetic Expressions Examples\n",
    "Some basic arithmetic operations:\n",
    "- Addition: 5 + 3 = 8\n",
    "- Multiplication: 4 * 2 = 8\n",
    "- Division: 10 / 2 = 5\n"
   ]
  },
  {
   "cell_type": "code",
   "execution_count": null,
   "id": "710b98df-43b6-4f25-a975-ffc5be656352",
   "metadata": {},
   "outputs": [],
   "source": [
    "# Multiplication and Addition Example\n",
    "a = 5 * 4\n",
    "b = a + 10\n",
    "b\n"
   ]
  },
  {
   "cell_type": "code",
   "execution_count": null,
   "id": "c79b0a32-2527-46c4-931a-d67aa8aa3f3c",
   "metadata": {},
   "outputs": [],
   "source": [
    "# Convert minutes to hours\n",
    "minutes = 120\n",
    "hours = minutes / 60\n",
    "hours\n"
   ]
  },
  {
   "cell_type": "code",
   "execution_count": null,
   "id": "c80be526-bba0-4ffe-9398-2f80408fd8c2",
   "metadata": {},
   "outputs": [],
   "source": [
    "# List of Goals\n",
    "goals = [\"Learn Python\", \"Master Data Science\", \"Build AI models\"]\n",
    "for goal in goals:\n",
    "    print(goal)\n"
   ]
  },
  {
   "cell_type": "code",
   "execution_count": null,
   "id": "bc2d121e-b8e5-4e20-a227-e4b3a1374fb5",
   "metadata": {},
   "outputs": [],
   "source": [
    "## Author\n",
    "**Carlso Rueda**\n"
   ]
  }
 ],
 "metadata": {
  "kernelspec": {
   "display_name": "Python 3 (ipykernel)",
   "language": "python",
   "name": "python3"
  },
  "language_info": {
   "codemirror_mode": {
    "name": "ipython",
    "version": 3
   },
   "file_extension": ".py",
   "mimetype": "text/x-python",
   "name": "python",
   "nbconvert_exporter": "python",
   "pygments_lexer": "ipython3",
   "version": "3.12.8"
  }
 },
 "nbformat": 4,
 "nbformat_minor": 5
}
